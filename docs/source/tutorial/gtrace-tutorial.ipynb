{
 "cells": [
  {
   "cell_type": "markdown",
   "metadata": {},
   "source": [
    "# gtrace Tutorial"
   ]
  },
  {
   "cell_type": "markdown",
   "metadata": {},
   "source": [
    "This Jupyter notebook walks you through how to use the gtrace package."
   ]
  },
  {
   "cell_type": "markdown",
   "metadata": {},
   "source": [
    "## Import modules"
   ]
  },
  {
   "cell_type": "markdown",
   "metadata": {},
   "source": [
    "First, we import related modules"
   ]
  },
  {
   "cell_type": "code",
   "execution_count": 1,
   "metadata": {},
   "outputs": [],
   "source": [
    "import gtrace.beam as beam  # Gaussian beam module\n",
    "import gtrace.optcomp as opt  # Optical components\n",
    "import gtrace.draw as draw  # A module to draw results into CAD files\n",
    "from gtrace.draw.tools import drawAllBeams, drawAllOptics, transAll, rotateAll #Utility functions for drawing \n",
    "import gtrace.draw.renderer as renderer\n",
    "from gtrace.unit import *  # A convenience module to represent various modules\n",
    "import gtrace.optics.gaussian as gauss # A utility module for Gaussian beams\n",
    "from gtrace.nonsequential import non_seq_trace #Non-sequential trace\n",
    "from gtrace.optics.geometric import vector_normalize #A function to normalize a vector\n",
    "\n",
    "import numpy as np  #Numpy\n",
    "pi = np.pi  #Just for brevity"
   ]
  },
  {
   "cell_type": "markdown",
   "metadata": {},
   "source": [
    "## Coordinates and directions"
   ]
  },
  {
   "cell_type": "markdown",
   "metadata": {},
   "source": [
    "In gtrace, everything is put on a 2D plane and we use a Cartesian coordinate system with x- and y-axis.\n",
    "\n",
    "Sometimes, you may want to specify a direction in the 2D space, such as a beam propagation direction or the direction of a mirror surface representated by its normal vector. You can use either a unit vector or an angle to specify a direction. When using an angle, it is always measured from the X-axis in counter-clockwise. Therefore, a unit vector having a direction angle $\\theta$ has components $(\\cos\\theta, \\sin\\theta)$."
   ]
  },
  {
   "cell_type": "markdown",
   "metadata": {},
   "source": [
    "## Gaussian beam object"
   ]
  },
  {
   "cell_type": "markdown",
   "metadata": {},
   "source": [
    "A Gaussian beam object:\n",
    "\n",
    "<img src=\"figures/GaussianBeam.png\" width=\"500\" align=\"left\">"
   ]
  },
  {
   "cell_type": "code",
   "execution_count": 2,
   "metadata": {
    "run_control": {
     "marked": true
    }
   },
   "outputs": [],
   "source": [
    "#q-parameter of the beam\n",
    "q0 = gauss.Rw2q(ROC=np.inf, w=0.3*mm)\n",
    "\n",
    "#Create a GaussianBeam object.\n",
    "b0 = beam.GaussianBeam(q0=q0, wl=1064*nm, length=30*cm, P=1.0)\n",
    "\n",
    "#Set the direction angle of the beam to 10deg from the global x-axis.\n",
    "b0.dirAngle = deg2rad(10)\n",
    "\n",
    "#Set the position of the origin of the beam\n",
    "b0.pos = (0.0, 0.0)"
   ]
  },
  {
   "cell_type": "markdown",
   "metadata": {},
   "source": [
    "## Define mirrors"
   ]
  },
  {
   "cell_type": "markdown",
   "metadata": {},
   "source": [
    "Mirror object:\n",
    "\n",
    "<img src=\"figures/Mirror.png\" width=\"500\" align=\"left\">"
   ]
  },
  {
   "cell_type": "code",
   "execution_count": 5,
   "metadata": {},
   "outputs": [],
   "source": [
    "M1 = opt.Mirror(HRcenter=[50*cm, 10*cm], normAngleHR=pi,\n",
    "                 diameter=25*cm, thickness=10*cm,\n",
    "                 wedgeAngle=deg2rad(0.25), inv_ROC_HR=1./(120*cm),\n",
    "                 inv_ROC_AR=0,\n",
    "                 Refl_HR=0.9, Trans_HR=1-0.9,\n",
    "                 Refl_AR=500*ppm, Trans_AR=1-500*ppm,\n",
    "                 n=1.45, name='M1')\n",
    "\n",
    "M2 = opt.Mirror(HRcenter=[0*cm, 18*cm], normAngleHR=deg2rad(5.0),\n",
    "                 diameter=15*cm, thickness=5*cm,\n",
    "                 wedgeAngle=deg2rad(0.25), inv_ROC_HR=-1./(350*cm),\n",
    "                 inv_ROC_AR=0,\n",
    "                 Refl_HR=0.9, Trans_HR=1-0.9,\n",
    "                 Refl_AR=500*ppm, Trans_AR=1-500*ppm,\n",
    "                 n=1.45, name='M2')\n",
    "\n",
    "M3 = opt.Mirror(HRcenter=[30*cm, 30*cm], normAngleHR=deg2rad(21.3),\n",
    "                 diameter=15*cm, thickness=5*cm,\n",
    "                 wedgeAngle=deg2rad(1), inv_ROC_HR=1./(350*cm),\n",
    "                 inv_ROC_AR=0,\n",
    "                 Refl_HR=0.9, Trans_HR=1-0.9,\n",
    "                 Refl_AR=500*ppm, Trans_AR=1-500*ppm,\n",
    "                 n=1.45, name='M3')"
   ]
  },
  {
   "cell_type": "markdown",
   "metadata": {},
   "source": [
    "## Sequential beam trace"
   ]
  },
  {
   "cell_type": "markdown",
   "metadata": {},
   "source": [
    "Prepare a dictionary to save beams"
   ]
  },
  {
   "cell_type": "code",
   "execution_count": 6,
   "metadata": {},
   "outputs": [],
   "source": [
    "beamDict = {}"
   ]
  },
  {
   "cell_type": "markdown",
   "metadata": {},
   "source": [
    "Hit the mirror `M1` with the beam `b1` from the HR side"
   ]
  },
  {
   "cell_type": "code",
   "execution_count": 7,
   "metadata": {},
   "outputs": [],
   "source": [
    "beams = M1.hitFromHR(b0, order=2)"
   ]
  },
  {
   "cell_type": "markdown",
   "metadata": {},
   "source": [
    "Returned object (`beams`) is a dictionary containing the resulting beams. The names of the beams are the following.\n",
    "\n",
    "<img src=\"figures/BeamNameConvention.png\" width=\"500\" align=\"left\">"
   ]
  },
  {
   "cell_type": "markdown",
   "metadata": {},
   "source": [
    "Trace the remaining beam path"
   ]
  },
  {
   "cell_type": "code",
   "execution_count": 9,
   "metadata": {},
   "outputs": [],
   "source": [
    "#Save the incident beam to the beam dictionary\n",
    "beamDict['input_beam'] = beams['input']\n",
    "\n",
    "#Save other beams\n",
    "beamDict['M1s1'] = beams['s1']\n",
    "beamDict['M1t1'] = beams['t1']\n",
    "beamDict['M1s2'] = beams['s2']\n",
    "beamDict['M1s3'] = beams['s3']\n",
    "beamDict['M1t2'] = beams['t2']\n",
    "\n",
    "#Reflected beam from M1\n",
    "b = beams['r1']\n",
    "\n",
    "#Hit M2\n",
    "beams = M2.hitFromHR(b, order=2)\n",
    "\n",
    "#Save the beam from M1 to M2\n",
    "beamDict['M1toM2'] = beams['input']\n",
    "beamDict['M2s1'] = beams['s1']\n",
    "beamDict['M2t1'] = beams['t1']\n",
    "\n",
    "#Reflected beam from M2\n",
    "b = beams['r1']\n",
    "\n",
    "#Hit M3 from AR\n",
    "beams = M3.hitFromAR(b, order=2)\n",
    "\n",
    "#Save beams\n",
    "beamDict['M2toM3'] = beams['input']\n",
    "beamDict['M3s1'] = beams['s1']\n",
    "beamDict['M3t1'] = beams['t1']"
   ]
  },
  {
   "cell_type": "markdown",
   "metadata": {},
   "source": [
    "## Draw the results"
   ]
  },
  {
   "cell_type": "code",
   "execution_count": 10,
   "metadata": {},
   "outputs": [],
   "source": [
    "#Create a canvas object\n",
    "cnv = draw.Canvas()\n",
    "\n",
    "#Add a layer to the canvas\n",
    "cnv.add_layer(\"main_beam\", color=(0,0,0))\n",
    "\n",
    "#Draw all the beams in beamDict\n",
    "drawAllBeams(cnv, list(beamDict.values()), drawWidth=True, sigma=3.0, drawPower=False,\n",
    "                 drawROC=False, drawGouy=False, drawOptDist=False, layer='main_beam',\n",
    "                    fontSize=0.01)\n",
    "\n",
    "#Draw the mirror\n",
    "drawAllOptics(cnv, [M1,M2,M3])\n",
    "\n",
    "#Save the result as a DXF file\n",
    "renderer.renderDXF(cnv, 'SeqTrace.dxf')"
   ]
  },
  {
   "cell_type": "markdown",
   "metadata": {},
   "source": [
    "The generated DXF file looks like this.\n",
    "\n",
    "<img src=\"figures/SeqTraceResult.png\">"
   ]
  },
  {
   "cell_type": "markdown",
   "metadata": {},
   "source": [
    "## Non-sequential trace"
   ]
  },
  {
   "cell_type": "markdown",
   "metadata": {},
   "source": [
    "In the above example, we instructed which beam should hit which optic explicitly.\n",
    "Here, we only specify an input beam and a set of optics. Then let the beam go around until specfied criteria are met. This is called \"Non-Sequential Trace\"."
   ]
  },
  {
   "cell_type": "markdown",
   "metadata": {},
   "source": [
    "### Perform non-sequential trace"
   ]
  },
  {
   "cell_type": "code",
   "execution_count": 11,
   "metadata": {},
   "outputs": [],
   "source": [
    "# Trace beams until the power is less than 1e-6 or 30th order internal reflections\n",
    "beams = non_seq_trace([M1,M2,M3], b0, order=30, power_threshold=1e-6)"
   ]
  },
  {
   "cell_type": "markdown",
   "metadata": {},
   "source": [
    "### Draw results"
   ]
  },
  {
   "cell_type": "code",
   "execution_count": 13,
   "metadata": {},
   "outputs": [],
   "source": [
    "#Create a canvas object\n",
    "cnv = draw.Canvas()\n",
    "\n",
    "#Add a layer to the canvas\n",
    "cnv.add_layer(\"main_beam\", color=(0,0,0))\n",
    "\n",
    "#Draw all beams\n",
    "\n",
    "drawAllBeams(cnv, beams, drawWidth=True, sigma=3.0, drawPower=False,\n",
    "                 drawROC=False, drawGouy=False, drawOptDist=False, layer='main_beam',\n",
    "                    fontSize=0.01)\n",
    "\n",
    "#Draw the mirror\n",
    "drawAllOptics(cnv, [M1,M2,M3])\n",
    "\n",
    "#Save the result as a DXF file\n",
    "renderer.renderDXF(cnv, 'NonSeq.dxf')"
   ]
  },
  {
   "cell_type": "code",
   "execution_count": 49,
   "metadata": {},
   "outputs": [],
   "source": [
    "a=cnv.layers['main_beam']"
   ]
  },
  {
   "cell_type": "code",
   "execution_count": 52,
   "metadata": {},
   "outputs": [],
   "source": [
    "b=a.shapes[0]"
   ]
  },
  {
   "cell_type": "code",
   "execution_count": 54,
   "metadata": {},
   "outputs": [
    {
     "data": {
      "text/plain": [
       "(0.4999415205870579, 0.0881531788559148)"
      ]
     },
     "execution_count": 54,
     "metadata": {},
     "output_type": "execute_result"
    }
   ],
   "source": [
    "b.stop"
   ]
  },
  {
   "cell_type": "markdown",
   "metadata": {},
   "source": [
    "The generated DXF file looks like this.\n",
    "\n",
    "<img src=\"figures/NonSeqTraceResult.png\">"
   ]
  },
  {
   "cell_type": "markdown",
   "metadata": {},
   "source": [
    "## KAGRA Input Mode Cleaner"
   ]
  },
  {
   "cell_type": "markdown",
   "metadata": {},
   "source": [
    "### Parameters"
   ]
  },
  {
   "cell_type": "code",
   "execution_count": 14,
   "metadata": {},
   "outputs": [],
   "source": [
    "nsilica = 1.44967\n",
    "\n",
    "MC_Dia = 10.0*cm\n",
    "MC_Thick = 3.0*cm\n",
    "MCe_ROC = 37.3 \n",
    "\n",
    "MCi_Refl = 0.9937\n",
    "MCo_Refl = 0.9937\n",
    "MCe_Refl = 0.9999\n",
    "AR_Refl = 0.1/100\n",
    "\n",
    "pos_MCi = np.array([-0.25, 0.0])\n",
    "pos_MCo = np.array([0.25, 0.0]) \n",
    "pos_MCe = np.array([0, 2.63986994e+01])"
   ]
  },
  {
   "cell_type": "markdown",
   "metadata": {},
   "source": [
    "### Define MC mirrors"
   ]
  },
  {
   "cell_type": "code",
   "execution_count": 15,
   "metadata": {},
   "outputs": [],
   "source": [
    "MCi = opt.Mirror(HRcenter=[0,0], normAngleHR=0.0,\n",
    "                 diameter=MC_Dia, thickness=MC_Thick,\n",
    "                 wedgeAngle=-deg2rad(2.5), inv_ROC_HR=0.0,\n",
    "                 Refl_HR=MCi_Refl, Trans_HR=1-MCi_Refl,\n",
    "                 Refl_AR=AR_Refl, Trans_AR=1-AR_Refl,\n",
    "                 n=nsilica, name='MCi')\n",
    "\n",
    "MCo = opt.Mirror(HRcenter=[0,0], normAngleHR=0.0,\n",
    "                 diameter=MC_Dia, thickness=MC_Thick,\n",
    "                 wedgeAngle=deg2rad(2.5), inv_ROC_HR=0.0,\n",
    "                 Refl_HR=MCo_Refl, Trans_HR=1-MCo_Refl,\n",
    "                 Refl_AR=AR_Refl, Trans_AR=1-AR_Refl,\n",
    "                 n=nsilica, name='MCo')\n",
    "\n",
    "MCe = opt.Mirror(HRcenter=[0,0], normAngleHR=0.0,\n",
    "                 diameter=MC_Dia, thickness=MC_Thick,\n",
    "                 wedgeAngle=deg2rad(2.5), inv_ROC_HR=1.0/MCe_ROC,\n",
    "                 Refl_HR=MCe_Refl, Trans_HR=1-MCe_Refl,\n",
    "                 Refl_AR=AR_Refl, Trans_AR=1-AR_Refl,\n",
    "                 n=nsilica, name='MCe')\n"
   ]
  },
  {
   "cell_type": "markdown",
   "metadata": {},
   "source": [
    "### Put MC mirrors"
   ]
  },
  {
   "cell_type": "code",
   "execution_count": 16,
   "metadata": {},
   "outputs": [],
   "source": [
    "#Put mirrors in position\n",
    "MCi.HRcenter = pos_MCi\n",
    "MCo.HRcenter = pos_MCo\n",
    "MCe.HRcenter = pos_MCe\n",
    "\n",
    "#Align the mirrors to form a triangular cavity\n",
    "v1 = vector_normalize(pos_MCi - pos_MCo)\n",
    "v2 = vector_normalize(pos_MCe - pos_MCo)\n",
    "MCo.normVectHR = (v1+v2)/2\n",
    "\n",
    "v2 = vector_normalize(pos_MCe - pos_MCi)\n",
    "MCi.normVectHR = (-v1+v2)/2\n",
    "\n",
    "MCe.normVectHR = np.array([0.0, -1.0])"
   ]
  },
  {
   "cell_type": "markdown",
   "metadata": {},
   "source": [
    "## MC eigen mode"
   ]
  },
  {
   "cell_type": "markdown",
   "metadata": {},
   "source": [
    "Now we compute the eigen mode of the MC by tracing a beam round trip of the MC then extracting the ABCD matrix"
   ]
  },
  {
   "cell_type": "code",
   "execution_count": 17,
   "metadata": {},
   "outputs": [],
   "source": [
    "#Test beam (beam parameters does not matter)\n",
    "b = beam.GaussianBeam(q0=gauss.Rw2q(ROC=np.inf, w=1*mm), wl=1064*nm)\n",
    "\n",
    "#Put the beam on the surface of MCi\n",
    "b.pos = MCi.HRcenter\n",
    "\n",
    "#Direct the beam to the center of MCo\n",
    "b.dirVect = MCo.HRcenter - b.pos\n",
    "\n",
    "#Hit MCo\n",
    "beams = MCo.hitFromHR(b)\n",
    "b = beams['r1']\n",
    "\n",
    "#Hit MCe\n",
    "beams = MCe.hitFromHR(b)\n",
    "b = beams['r1']\n",
    "\n",
    "#Hit MCi\n",
    "beams = MCi.hitFromHR(b)\n",
    "b = beams['r1']\n",
    "\n",
    "#Extract the round trip ABCD matrix in the horizontal direction\n",
    "A = b.Mx[0,0]\n",
    "B = b.Mx[0,1]\n",
    "C = b.Mx[1,0]\n",
    "D = b.Mx[1,1]\n",
    "#q-parameter of the MC eigenmode beam\n",
    "qxMC = 1.0/((D-A)/(2*B)-1j*np.sqrt(4-(A+D)**2)/(2*B))\n",
    "\n",
    "#Extract the round trip ABCD matrix in the vertical direction\n",
    "A = b.My[0,0]\n",
    "B = b.My[0,1]\n",
    "C = b.My[1,0]\n",
    "D = b.My[1,1]\n",
    "#q-parameter of the MC eigenmode beam\n",
    "qyMC = 1.0/((D-A)/(2*B)-1j*np.sqrt(4-(A+D)**2)/(2*B))\n",
    "\n",
    "#Update the q-parameter of b\n",
    "b.qx = qxMC\n",
    "b.qy = qyMC\n",
    "\n",
    "#Name it bMC\n",
    "bMC = b.copy()\n"
   ]
  },
  {
   "cell_type": "markdown",
   "metadata": {},
   "source": [
    "Waist size and position of the MC eigenmode (measured from the MCi HR surface)"
   ]
  },
  {
   "cell_type": "code",
   "execution_count": 18,
   "metadata": {},
   "outputs": [
    {
     "data": {
      "text/plain": [
       "{'Waist Size': (0.002388588001545699, 0.002388775565011432),\n",
       " 'Waist Position': (0.25000000000000416, 0.25000000000000505)}"
      ]
     },
     "execution_count": 18,
     "metadata": {},
     "output_type": "execute_result"
    }
   ],
   "source": [
    "bMC.waist()"
   ]
  },
  {
   "cell_type": "markdown",
   "metadata": {},
   "source": [
    "### Trace the beam in the MC again"
   ]
  },
  {
   "cell_type": "code",
   "execution_count": 19,
   "metadata": {},
   "outputs": [],
   "source": [
    "beamDict = {}\n",
    "\n",
    "#Hit MCo\n",
    "beams = MCo.hitFromHR(b, order=1)\n",
    "beamDict['MCitoMCo'] = beams['input']\n",
    "beamDict['MCos1'] = beams['s1']\n",
    "beamDict['MCot1'] = beams['t1']\n",
    "\n",
    "b = beams['r1']\n",
    "\n",
    "#Hit MCe\n",
    "beams = MCe.hitFromHR(b, order=1)\n",
    "beamDict['MCotoMCe'] = beams['input']\n",
    "beamDict['MCes1'] = beams['s1']\n",
    "beamDict['MCet1'] = beams['t1']\n",
    "\n",
    "b = beams['r1']\n",
    "\n",
    "#Hit MCi\n",
    "beams = MCi.hitFromHR(b, order=1)\n",
    "beamDict['MCetoMCi'] = beams['input']\n",
    "beamDict['MCis1'] = beams['s1']\n",
    "beamDict['MCit1'] = beams['t1']"
   ]
  },
  {
   "cell_type": "markdown",
   "metadata": {},
   "source": [
    "## Draw MC beams"
   ]
  },
  {
   "cell_type": "code",
   "execution_count": 20,
   "metadata": {},
   "outputs": [],
   "source": [
    "#Create a canvas object\n",
    "cnv = draw.Canvas()\n",
    "\n",
    "#Add a layer to the canvas\n",
    "cnv.add_layer(\"main_beam\", color=(0,0,0))\n",
    "\n",
    "#Draw all beams\n",
    "\n",
    "drawAllBeams(cnv, list(beamDict.values()), drawWidth=True, sigma=3.0, drawPower=False,\n",
    "                 drawROC=False, drawGouy=False, drawOptDist=False, layer='main_beam',\n",
    "                    fontSize=0.01)\n",
    "\n",
    "#Draw the mirror\n",
    "drawAllOptics(cnv, [MCi,MCo,MCe])\n",
    "\n",
    "#Save the result as a DXF file\n",
    "renderer.renderDXF(cnv, 'MC.dxf')"
   ]
  },
  {
   "cell_type": "markdown",
   "metadata": {},
   "source": [
    "The generated DXF file looks like this:\n",
    "\n",
    "<img src=\"figures/MCtrace.png\">"
   ]
  },
  {
   "cell_type": "code",
   "execution_count": null,
   "metadata": {},
   "outputs": [],
   "source": []
  }
 ],
 "metadata": {
  "kernelspec": {
   "display_name": "Python 3",
   "language": "python",
   "name": "python3"
  },
  "language_info": {
   "codemirror_mode": {
    "name": "ipython",
    "version": 3
   },
   "file_extension": ".py",
   "mimetype": "text/x-python",
   "name": "python",
   "nbconvert_exporter": "python",
   "pygments_lexer": "ipython3",
   "version": "3.8.5"
  },
  "toc": {
   "base_numbering": 1,
   "nav_menu": {},
   "number_sections": true,
   "sideBar": true,
   "skip_h1_title": false,
   "title_cell": "Table of Contents",
   "title_sidebar": "Contents",
   "toc_cell": false,
   "toc_position": {},
   "toc_section_display": true,
   "toc_window_display": false
  }
 },
 "nbformat": 4,
 "nbformat_minor": 4
}
